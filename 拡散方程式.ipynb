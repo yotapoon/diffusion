{
 "cells": [
  {
   "cell_type": "markdown",
   "metadata": {},
   "source": [
    "ここでは以下の拡散方程式を扱うことにする：  \n",
    "$$\n",
    "\\dfrac{\\partial P(x,t;x_0)}{\\partial t} = D \\dfrac{ \\partial^2 P(x,t;x_0)}{\\partial x^2}\n",
    "$$\n",
    "ここで$x_0$は初期条件$P(x,t=0;x_0) = \\delta (x-x_0)$を満たす解を扱うことを表している。  \n",
    "さらに$x=L$における吸収壁という境界条件\n",
    "$$\n",
    "P(x=L,t,;x_0) = 0\n",
    "$$\n",
    "と$x=-L$における反射壁という境界条件\n",
    "$$\n",
    "\\dfrac{\\partial P(x=-L,t;x_0)}{\\partial x} = 0\n",
    "$$\n",
    "を要請する。"
   ]
  },
  {
   "cell_type": "markdown",
   "metadata": {},
   "source": [
    "ここで$P(x,t=0;x_0) = \\delta(x-x_0)$という初期条件を満たす解を$x_0$について積分することで，はじめに求めたかった確率分布が求められることに注意する(要検証)。つまり$P(x,t=0) = n$という一様な初期条件から始まる解$P_{*} (x,t)$は$P_{*} (x,t) = \\int P(x,t;x_0) dx_0$によって求められる。"
   ]
  },
  {
   "cell_type": "markdown",
   "metadata": {},
   "source": [
    "まず$P(x,t;x_0)$を計算するために，境界条件を満たす固有関数$\\phi_k(x) $を求める。  \n",
    "固有関数の満たすべき方程式\n",
    "$$\n",
    "\\dfrac{\\partial^2 \\phi}{\\partial x^2} = - \\phi(x)\n",
    "$$\n",
    "から$x$の三角関数であることがわかる。  \n",
    "さらに境界条件$\\phi(x=L) = 0$から$\\phi(x) = a_k \\sin k(x-L)$という形であることもわかる。ここにもう一つの境界条件\n",
    "$\\dfrac{\\partial \\phi}{\\partial x}(x=-L) = 0$を利用すると，$k$の満たすべき条件として$\\cos 2kL = 0$となることが要請される。以下ではこの条件を満たす$k$の集合を$K$と表記する。"
   ]
  },
  {
   "cell_type": "markdown",
   "metadata": {},
   "source": [
    "先ほど求めた固有関数を利用して$P(x,t;x_0)$を展開すると\n",
    "$$\n",
    "P(x,t;x_0) = \\sum_{k \\in K} a_k (t) \\sin k(x-L)\n",
    "$$\n",
    "が得られる。\n",
    "この表式を拡散方程式に代入し，三角関数の直交性を利用すると$a_k '(t) = -D k^2 a_k(t)$という条件が求まる。  \n",
    "ここから$a_k(t) = a_k(0) \\exp(-Dk^2 t) $となる。代入し直すことで，\n",
    "$$\n",
    "P(x,t;x_0) = \\sum_{k \\in K} a_k(0) \\exp(-Dk^2 t) \\sin k(x-L)\n",
    "$$\n",
    "が得られる。"
   ]
  },
  {
   "cell_type": "markdown",
   "metadata": {},
   "source": [
    "最後に初期条件を利用する。初期条件に先ほど得られた表式を代入すると，\n",
    "$$\n",
    "\\delta(x-x_0) = \\sum_{k \\in K} a_k(0) \\sin k(x-L)\n",
    "$$\n",
    "である。$a_k(0)$を求めるために，両辺に$\\sin k' (x-L)$をかけて$x$について積分する。  \n",
    "左辺は明らかに$\\sin k' (x_0 -L)$となる。  \n",
    "右辺は$\\int_{-L}^{L} \\sin k(x-L) \\sin k' (x-L) dx = L \\delta_{k,k'}$となる(たぶん、チェックしてほしい)ため，\n",
    "$a_k' (0) = \\dfrac{1}{L}\\sin k' (x_0-L)$がわかる。$P(x,t;x_0)$の表式に代入し直すと\n",
    "$$\n",
    "P(x,t;x_0) = \\sum_{k \\in K} \\dfrac{1}{L}\\sin k (x_0-L) \\exp(-Dk^2 t)\\sin k(x-L)\n",
    "$$\n",
    "がわかった。"
   ]
  },
  {
   "cell_type": "markdown",
   "metadata": {},
   "source": [
    "最後にこの式を$x_0$で積分すると求めたい分布が得られる(係数についてはミスがあるかも、おおよそは正しいはず)。\n",
    "$$\n",
    "P_{*} (x,t) = \\int_{-L}^L P(x,t;x_0) dx_0 = \\sum_{k \\in K} \\dfrac{-1}{kL} \\exp(-Dk^2t) \\sin k(x-L)\n",
    "$$"
   ]
  },
  {
   "cell_type": "code",
   "execution_count": null,
   "metadata": {},
   "outputs": [],
   "source": []
  }
 ],
 "metadata": {
  "kernelspec": {
   "display_name": "Python 3",
   "language": "python",
   "name": "python3"
  },
  "language_info": {
   "codemirror_mode": {
    "name": "ipython",
    "version": 3
   },
   "file_extension": ".py",
   "mimetype": "text/x-python",
   "name": "python",
   "nbconvert_exporter": "python",
   "pygments_lexer": "ipython3",
   "version": "3.7.1"
  }
 },
 "nbformat": 4,
 "nbformat_minor": 2
}
